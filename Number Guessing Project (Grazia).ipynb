{
 "cells": [
  {
   "cell_type": "markdown",
   "id": "5da88d27-994d-4ed6-8918-28d98c318640",
   "metadata": {},
   "source": [
    "### Library Importation"
   ]
  },
  {
   "cell_type": "code",
   "execution_count": 1,
   "id": "7ee7ae83-1509-43c6-88b4-6b066492d776",
   "metadata": {},
   "outputs": [],
   "source": [
    "import random"
   ]
  },
  {
   "cell_type": "markdown",
   "id": "1e09b1c4-880d-4cdd-bacf-5a924d38248a",
   "metadata": {},
   "source": [
    "### While Loop and Guess"
   ]
  },
  {
   "cell_type": "code",
   "execution_count": 4,
   "id": "4553e431-02ad-4df9-8640-d9885fd1ec88",
   "metadata": {},
   "outputs": [
    {
     "name": "stdin",
     "output_type": "stream",
     "text": [
      "Your Number: 45\n"
     ]
    },
    {
     "name": "stdout",
     "output_type": "stream",
     "text": [
      "Guess Higher\n"
     ]
    },
    {
     "name": "stdin",
     "output_type": "stream",
     "text": [
      "Your Number: 0\n"
     ]
    },
    {
     "name": "stdout",
     "output_type": "stream",
     "text": [
      "Guess Higher\n"
     ]
    },
    {
     "name": "stdin",
     "output_type": "stream",
     "text": [
      "Your Number: 89\n"
     ]
    },
    {
     "name": "stdout",
     "output_type": "stream",
     "text": [
      "Guess lower\n"
     ]
    },
    {
     "name": "stdin",
     "output_type": "stream",
     "text": [
      "Your Number: 70\n"
     ]
    },
    {
     "name": "stdout",
     "output_type": "stream",
     "text": [
      "Guess Higher\n"
     ]
    },
    {
     "name": "stdin",
     "output_type": "stream",
     "text": [
      "Your Number: 73\n"
     ]
    },
    {
     "name": "stdout",
     "output_type": "stream",
     "text": [
      "Guess Higher\n"
     ]
    },
    {
     "name": "stdin",
     "output_type": "stream",
     "text": [
      "Your Number: 78\n"
     ]
    },
    {
     "name": "stdout",
     "output_type": "stream",
     "text": [
      "Guess lower\n"
     ]
    },
    {
     "name": "stdin",
     "output_type": "stream",
     "text": [
      "Your Number: 77\n"
     ]
    },
    {
     "name": "stdout",
     "output_type": "stream",
     "text": [
      "You won\n"
     ]
    }
   ],
   "source": [
    "number = random.randint(1,100)\n",
    "guess = 0\n",
    "while guess != number :\n",
    "    guess = int(input(\"Your Number:\"))\n",
    "    if (guess < number):\n",
    "        print (\"Guess Higher\")\n",
    "    elif (guess > number):\n",
    "        print (\"Guess lower\")\n",
    "    else:\n",
    "        print(\"You won\")    "
   ]
  },
  {
   "cell_type": "code",
   "execution_count": null,
   "id": "9664aac6-75d3-43c6-a123-368a8bcc7f39",
   "metadata": {},
   "outputs": [],
   "source": []
  }
 ],
 "metadata": {
  "kernelspec": {
   "display_name": "Python 3 (ipykernel)",
   "language": "python",
   "name": "python3"
  },
  "language_info": {
   "codemirror_mode": {
    "name": "ipython",
    "version": 3
   },
   "file_extension": ".py",
   "mimetype": "text/x-python",
   "name": "python",
   "nbconvert_exporter": "python",
   "pygments_lexer": "ipython3",
   "version": "3.12.1"
  }
 },
 "nbformat": 4,
 "nbformat_minor": 5
}
